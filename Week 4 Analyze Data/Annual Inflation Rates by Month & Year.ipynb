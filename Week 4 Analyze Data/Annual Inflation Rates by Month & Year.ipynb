{
 "cells": [
  {
   "cell_type": "markdown",
   "id": "fc6a8e23",
   "metadata": {},
   "source": [
    "# Import"
   ]
  },
  {
   "cell_type": "code",
   "execution_count": 1,
   "id": "f9c524fa",
   "metadata": {},
   "outputs": [],
   "source": [
    "import pandas as pd\n",
    "import seaborn\n",
    "import seaborn as sns\n",
    "sns.set(color_codes=True)\n",
    "import matplotlib.pyplot as plt\n",
    "import missingno as msno\n",
    "import numpy as np\n",
    "from numpy import nan"
   ]
  },
  {
   "cell_type": "markdown",
   "id": "1b18b8e7",
   "metadata": {},
   "source": [
    "# Read-In-Data"
   ]
  },
  {
   "cell_type": "code",
   "execution_count": 45,
   "id": "d47e7f62",
   "metadata": {},
   "outputs": [],
   "source": [
    "Inflation_Month_Year = pd.read_excel(\"C:/Users/Ivette/OneDrive/New folder/DSO 110 Final Project/Annual Inflation Rates by Month and Year.xlsx\")"
   ]
  },
  {
   "cell_type": "markdown",
   "id": "d8de334b",
   "metadata": {},
   "source": [
    "# Head()\n",
    "### Best way to always call your datasets to insure it's properly loaded up "
   ]
  },
  {
   "cell_type": "code",
   "execution_count": 46,
   "id": "9a552257",
   "metadata": {},
   "outputs": [
    {
     "data": {
      "text/html": [
       "<div>\n",
       "<style scoped>\n",
       "    .dataframe tbody tr th:only-of-type {\n",
       "        vertical-align: middle;\n",
       "    }\n",
       "\n",
       "    .dataframe tbody tr th {\n",
       "        vertical-align: top;\n",
       "    }\n",
       "\n",
       "    .dataframe thead th {\n",
       "        text-align: right;\n",
       "    }\n",
       "</style>\n",
       "<table border=\"1\" class=\"dataframe\">\n",
       "  <thead>\n",
       "    <tr style=\"text-align: right;\">\n",
       "      <th></th>\n",
       "      <th>Month</th>\n",
       "      <th>2010</th>\n",
       "      <th>2011</th>\n",
       "      <th>2012</th>\n",
       "      <th>2013</th>\n",
       "      <th>2014</th>\n",
       "      <th>2015</th>\n",
       "      <th>2016</th>\n",
       "      <th>2017</th>\n",
       "      <th>2018</th>\n",
       "      <th>2019</th>\n",
       "      <th>2020</th>\n",
       "      <th>2021</th>\n",
       "    </tr>\n",
       "  </thead>\n",
       "  <tbody>\n",
       "    <tr>\n",
       "      <th>0</th>\n",
       "      <td>January</td>\n",
       "      <td>2.6</td>\n",
       "      <td>1.6</td>\n",
       "      <td>2.9</td>\n",
       "      <td>1.6</td>\n",
       "      <td>1.6</td>\n",
       "      <td>-0.1</td>\n",
       "      <td>1.4</td>\n",
       "      <td>2.5</td>\n",
       "      <td>2.1</td>\n",
       "      <td>1.6</td>\n",
       "      <td>2.5</td>\n",
       "      <td>1.4</td>\n",
       "    </tr>\n",
       "    <tr>\n",
       "      <th>1</th>\n",
       "      <td>February</td>\n",
       "      <td>2.1</td>\n",
       "      <td>2.1</td>\n",
       "      <td>2.9</td>\n",
       "      <td>2.0</td>\n",
       "      <td>1.1</td>\n",
       "      <td>0.0</td>\n",
       "      <td>1.0</td>\n",
       "      <td>2.7</td>\n",
       "      <td>2.2</td>\n",
       "      <td>1.5</td>\n",
       "      <td>2.3</td>\n",
       "      <td>1.7</td>\n",
       "    </tr>\n",
       "    <tr>\n",
       "      <th>2</th>\n",
       "      <td>March</td>\n",
       "      <td>2.3</td>\n",
       "      <td>2.7</td>\n",
       "      <td>2.7</td>\n",
       "      <td>1.5</td>\n",
       "      <td>1.5</td>\n",
       "      <td>-0.1</td>\n",
       "      <td>0.9</td>\n",
       "      <td>2.4</td>\n",
       "      <td>2.4</td>\n",
       "      <td>1.9</td>\n",
       "      <td>1.5</td>\n",
       "      <td>2.6</td>\n",
       "    </tr>\n",
       "    <tr>\n",
       "      <th>3</th>\n",
       "      <td>April</td>\n",
       "      <td>2.2</td>\n",
       "      <td>3.2</td>\n",
       "      <td>2.3</td>\n",
       "      <td>1.1</td>\n",
       "      <td>2.0</td>\n",
       "      <td>-0.2</td>\n",
       "      <td>1.1</td>\n",
       "      <td>2.2</td>\n",
       "      <td>2.5</td>\n",
       "      <td>2.0</td>\n",
       "      <td>0.3</td>\n",
       "      <td>4.2</td>\n",
       "    </tr>\n",
       "    <tr>\n",
       "      <th>4</th>\n",
       "      <td>May</td>\n",
       "      <td>2.0</td>\n",
       "      <td>3.6</td>\n",
       "      <td>1.7</td>\n",
       "      <td>1.4</td>\n",
       "      <td>2.1</td>\n",
       "      <td>0.0</td>\n",
       "      <td>1.0</td>\n",
       "      <td>1.9</td>\n",
       "      <td>2.8</td>\n",
       "      <td>1.8</td>\n",
       "      <td>0.1</td>\n",
       "      <td>5.0</td>\n",
       "    </tr>\n",
       "  </tbody>\n",
       "</table>\n",
       "</div>"
      ],
      "text/plain": [
       "      Month  2010  2011  2012  2013  2014  2015  2016  2017  2018  2019  2020  \\\n",
       "0   January   2.6   1.6   2.9   1.6   1.6  -0.1   1.4   2.5   2.1   1.6   2.5   \n",
       "1  February   2.1   2.1   2.9   2.0   1.1   0.0   1.0   2.7   2.2   1.5   2.3   \n",
       "2     March   2.3   2.7   2.7   1.5   1.5  -0.1   0.9   2.4   2.4   1.9   1.5   \n",
       "3     April   2.2   3.2   2.3   1.1   2.0  -0.2   1.1   2.2   2.5   2.0   0.3   \n",
       "4       May   2.0   3.6   1.7   1.4   2.1   0.0   1.0   1.9   2.8   1.8   0.1   \n",
       "\n",
       "   2021  \n",
       "0   1.4  \n",
       "1   1.7  \n",
       "2   2.6  \n",
       "3   4.2  \n",
       "4   5.0  "
      ]
     },
     "execution_count": 46,
     "metadata": {},
     "output_type": "execute_result"
    }
   ],
   "source": [
    "Inflation_Month_Year.head()"
   ]
  },
  {
   "cell_type": "code",
   "execution_count": 20,
   "id": "a63cb32f",
   "metadata": {},
   "outputs": [
    {
     "data": {
      "text/plain": [
       "Index(['Month', 2010, 2011, 2012, 2013, 2014, 2015, 2016, 2017, 2018, 2019,\n",
       "       2020, 2021],\n",
       "      dtype='object')"
      ]
     },
     "execution_count": 20,
     "metadata": {},
     "output_type": "execute_result"
    }
   ],
   "source": [
    "Inflation_Month_Year.columns"
   ]
  },
  {
   "cell_type": "code",
   "execution_count": 47,
   "id": "ec5bb569",
   "metadata": {},
   "outputs": [
    {
     "name": "stdout",
     "output_type": "stream",
     "text": [
      "['Month', 2010, 2011, 2012, 2013, 2014, 2015, 2016, 2017, 2018, 2019, 2020, 2021]\n"
     ]
    }
   ],
   "source": [
    "# printing all columns of the dataframe\n",
    "print(Inflation_Month_Year.columns.tolist())"
   ]
  },
  {
   "cell_type": "code",
   "execution_count": 17,
   "id": "813a90b7",
   "metadata": {},
   "outputs": [],
   "source": [
    "# Had to create a index for the years in order to run the data with no issues\n",
    "\n",
    "#data = {'Month': ['January', 'February', 'March', 'April', 'May', 'June', 'July', 'August', 'September', 'October', 'November', 'December'],\n",
    "        #'Years': [ 2010, 2011, 2012, 2013, 2014, 2015, 2016, 2017, 2018, 2019, 2020, 2021]\n",
    "        #'Averages': [1.625, 3.16, 2.083, 1.483, 1.63, 0.125, 1.266, 2.116, 2.45, 1.816, 1.23, 4.7]}\n",
    "\n",
    "\n",
    "#df = pd.DataFrame(data)\n",
    "#df"
   ]
  },
  {
   "cell_type": "code",
   "execution_count": 21,
   "id": "99556e3d",
   "metadata": {},
   "outputs": [
    {
     "data": {
      "text/html": [
       "<div>\n",
       "<style scoped>\n",
       "    .dataframe tbody tr th:only-of-type {\n",
       "        vertical-align: middle;\n",
       "    }\n",
       "\n",
       "    .dataframe tbody tr th {\n",
       "        vertical-align: top;\n",
       "    }\n",
       "\n",
       "    .dataframe thead th {\n",
       "        text-align: right;\n",
       "    }\n",
       "</style>\n",
       "<table border=\"1\" class=\"dataframe\">\n",
       "  <thead>\n",
       "    <tr style=\"text-align: right;\">\n",
       "      <th></th>\n",
       "      <th>Month</th>\n",
       "      <th>Years</th>\n",
       "      <th>Averages</th>\n",
       "    </tr>\n",
       "  </thead>\n",
       "  <tbody>\n",
       "    <tr>\n",
       "      <th>0</th>\n",
       "      <td>January</td>\n",
       "      <td>2010</td>\n",
       "      <td>1.625</td>\n",
       "    </tr>\n",
       "    <tr>\n",
       "      <th>1</th>\n",
       "      <td>February</td>\n",
       "      <td>2011</td>\n",
       "      <td>3.160</td>\n",
       "    </tr>\n",
       "    <tr>\n",
       "      <th>2</th>\n",
       "      <td>March</td>\n",
       "      <td>2012</td>\n",
       "      <td>2.083</td>\n",
       "    </tr>\n",
       "    <tr>\n",
       "      <th>3</th>\n",
       "      <td>April</td>\n",
       "      <td>2013</td>\n",
       "      <td>1.483</td>\n",
       "    </tr>\n",
       "    <tr>\n",
       "      <th>4</th>\n",
       "      <td>May</td>\n",
       "      <td>2014</td>\n",
       "      <td>1.630</td>\n",
       "    </tr>\n",
       "    <tr>\n",
       "      <th>5</th>\n",
       "      <td>June</td>\n",
       "      <td>2015</td>\n",
       "      <td>0.125</td>\n",
       "    </tr>\n",
       "    <tr>\n",
       "      <th>6</th>\n",
       "      <td>July</td>\n",
       "      <td>2016</td>\n",
       "      <td>1.266</td>\n",
       "    </tr>\n",
       "    <tr>\n",
       "      <th>7</th>\n",
       "      <td>August</td>\n",
       "      <td>2017</td>\n",
       "      <td>2.116</td>\n",
       "    </tr>\n",
       "    <tr>\n",
       "      <th>8</th>\n",
       "      <td>September</td>\n",
       "      <td>2018</td>\n",
       "      <td>2.450</td>\n",
       "    </tr>\n",
       "    <tr>\n",
       "      <th>9</th>\n",
       "      <td>October</td>\n",
       "      <td>2019</td>\n",
       "      <td>1.816</td>\n",
       "    </tr>\n",
       "    <tr>\n",
       "      <th>10</th>\n",
       "      <td>November</td>\n",
       "      <td>2020</td>\n",
       "      <td>1.230</td>\n",
       "    </tr>\n",
       "    <tr>\n",
       "      <th>11</th>\n",
       "      <td>December</td>\n",
       "      <td>2021</td>\n",
       "      <td>4.700</td>\n",
       "    </tr>\n",
       "  </tbody>\n",
       "</table>\n",
       "</div>"
      ],
      "text/plain": [
       "        Month  Years  Averages\n",
       "0     January   2010     1.625\n",
       "1    February   2011     3.160\n",
       "2       March   2012     2.083\n",
       "3       April   2013     1.483\n",
       "4         May   2014     1.630\n",
       "5        June   2015     0.125\n",
       "6        July   2016     1.266\n",
       "7      August   2017     2.116\n",
       "8   September   2018     2.450\n",
       "9     October   2019     1.816\n",
       "10   November   2020     1.230\n",
       "11   December   2021     4.700"
      ]
     },
     "execution_count": 21,
     "metadata": {},
     "output_type": "execute_result"
    }
   ],
   "source": [
    "data = {'Month': ['January', 'February', 'March', 'April', 'May', 'June', 'July', 'August', 'September', 'October', 'November', 'December'],\n",
    "        'Years': [ 2010, 2011, 2012, 2013, 2014, 2015, 2016, 2017, 2018, 2019, 2020, 2021],\n",
    "        'Averages': [1.625, 3.16, 2.083, 1.483, 1.63, 0.125, 1.266, 2.116, 2.45, 1.816, 1.23, 4.7]}\n",
    "\n",
    "Inflation_Month_Year = pd.DataFrame(data)\n",
    "Inflation_Month_Year"
   ]
  },
  {
   "cell_type": "code",
   "execution_count": 43,
   "id": "5b97756c",
   "metadata": {},
   "outputs": [
    {
     "data": {
      "text/plain": [
       "Index(['Month', 'Years', 'Averages'], dtype='object')"
      ]
     },
     "execution_count": 43,
     "metadata": {},
     "output_type": "execute_result"
    }
   ],
   "source": [
    "#View columns and (copy & paste to make new dataframe)\n",
    "Inflation_Month_Year.columns"
   ]
  },
  {
   "cell_type": "markdown",
   "id": "19e72212",
   "metadata": {},
   "source": [
    "# Univariate Analysis\n",
    "\n",
    "## Common Data Types"
   ]
  },
  {
   "cell_type": "code",
   "execution_count": 42,
   "id": "0eb2ac63",
   "metadata": {},
   "outputs": [
    {
     "data": {
      "text/plain": [
       "Month        object\n",
       "Years         int64\n",
       "Averages    float64\n",
       "dtype: object"
      ]
     },
     "execution_count": 42,
     "metadata": {},
     "output_type": "execute_result"
    }
   ],
   "source": [
    "#///////////////////////////////////////////////////#\n",
    "# Data Types #\n",
    "#//////////////////////////////////////////////////#\n",
    "\n",
    "Inflation_Month_Year.dtypes"
   ]
  },
  {
   "cell_type": "code",
   "execution_count": 41,
   "id": "bac22ee4",
   "metadata": {},
   "outputs": [
    {
     "name": "stdout",
     "output_type": "stream",
     "text": [
      "<class 'pandas.core.frame.DataFrame'>\n",
      "RangeIndex: 12 entries, 0 to 11\n",
      "Data columns (total 3 columns):\n",
      " #   Column    Non-Null Count  Dtype  \n",
      "---  ------    --------------  -----  \n",
      " 0   Month     12 non-null     object \n",
      " 1   Years     12 non-null     int64  \n",
      " 2   Averages  12 non-null     float64\n",
      "dtypes: float64(1), int64(1), object(1)\n",
      "memory usage: 416.0+ bytes\n"
     ]
    }
   ],
   "source": [
    "Inflation_Month_Year.info()"
   ]
  },
  {
   "cell_type": "code",
   "execution_count": 40,
   "id": "c9e76237",
   "metadata": {},
   "outputs": [
    {
     "data": {
      "text/html": [
       "<div>\n",
       "<style scoped>\n",
       "    .dataframe tbody tr th:only-of-type {\n",
       "        vertical-align: middle;\n",
       "    }\n",
       "\n",
       "    .dataframe tbody tr th {\n",
       "        vertical-align: top;\n",
       "    }\n",
       "\n",
       "    .dataframe thead th {\n",
       "        text-align: right;\n",
       "    }\n",
       "</style>\n",
       "<table border=\"1\" class=\"dataframe\">\n",
       "  <thead>\n",
       "    <tr style=\"text-align: right;\">\n",
       "      <th></th>\n",
       "      <th>Month</th>\n",
       "      <th>Years</th>\n",
       "      <th>Averages</th>\n",
       "    </tr>\n",
       "  </thead>\n",
       "  <tbody>\n",
       "    <tr>\n",
       "      <th>0</th>\n",
       "      <td>False</td>\n",
       "      <td>False</td>\n",
       "      <td>False</td>\n",
       "    </tr>\n",
       "    <tr>\n",
       "      <th>1</th>\n",
       "      <td>False</td>\n",
       "      <td>False</td>\n",
       "      <td>False</td>\n",
       "    </tr>\n",
       "    <tr>\n",
       "      <th>2</th>\n",
       "      <td>False</td>\n",
       "      <td>False</td>\n",
       "      <td>False</td>\n",
       "    </tr>\n",
       "    <tr>\n",
       "      <th>3</th>\n",
       "      <td>False</td>\n",
       "      <td>False</td>\n",
       "      <td>False</td>\n",
       "    </tr>\n",
       "    <tr>\n",
       "      <th>4</th>\n",
       "      <td>False</td>\n",
       "      <td>False</td>\n",
       "      <td>False</td>\n",
       "    </tr>\n",
       "    <tr>\n",
       "      <th>5</th>\n",
       "      <td>False</td>\n",
       "      <td>False</td>\n",
       "      <td>False</td>\n",
       "    </tr>\n",
       "    <tr>\n",
       "      <th>6</th>\n",
       "      <td>False</td>\n",
       "      <td>False</td>\n",
       "      <td>False</td>\n",
       "    </tr>\n",
       "    <tr>\n",
       "      <th>7</th>\n",
       "      <td>False</td>\n",
       "      <td>False</td>\n",
       "      <td>False</td>\n",
       "    </tr>\n",
       "    <tr>\n",
       "      <th>8</th>\n",
       "      <td>False</td>\n",
       "      <td>False</td>\n",
       "      <td>False</td>\n",
       "    </tr>\n",
       "    <tr>\n",
       "      <th>9</th>\n",
       "      <td>False</td>\n",
       "      <td>False</td>\n",
       "      <td>False</td>\n",
       "    </tr>\n",
       "    <tr>\n",
       "      <th>10</th>\n",
       "      <td>False</td>\n",
       "      <td>False</td>\n",
       "      <td>False</td>\n",
       "    </tr>\n",
       "    <tr>\n",
       "      <th>11</th>\n",
       "      <td>False</td>\n",
       "      <td>False</td>\n",
       "      <td>False</td>\n",
       "    </tr>\n",
       "  </tbody>\n",
       "</table>\n",
       "</div>"
      ],
      "text/plain": [
       "    Month  Years  Averages\n",
       "0   False  False     False\n",
       "1   False  False     False\n",
       "2   False  False     False\n",
       "3   False  False     False\n",
       "4   False  False     False\n",
       "5   False  False     False\n",
       "6   False  False     False\n",
       "7   False  False     False\n",
       "8   False  False     False\n",
       "9   False  False     False\n",
       "10  False  False     False\n",
       "11  False  False     False"
      ]
     },
     "execution_count": 40,
     "metadata": {},
     "output_type": "execute_result"
    }
   ],
   "source": [
    "Inflation_Month_Year.isna()"
   ]
  },
  {
   "cell_type": "code",
   "execution_count": 39,
   "id": "69b7a2f7",
   "metadata": {},
   "outputs": [
    {
     "data": {
      "text/html": [
       "<div>\n",
       "<style scoped>\n",
       "    .dataframe tbody tr th:only-of-type {\n",
       "        vertical-align: middle;\n",
       "    }\n",
       "\n",
       "    .dataframe tbody tr th {\n",
       "        vertical-align: top;\n",
       "    }\n",
       "\n",
       "    .dataframe thead th {\n",
       "        text-align: right;\n",
       "    }\n",
       "</style>\n",
       "<table border=\"1\" class=\"dataframe\">\n",
       "  <thead>\n",
       "    <tr style=\"text-align: right;\">\n",
       "      <th></th>\n",
       "      <th>Month</th>\n",
       "      <th>Years</th>\n",
       "      <th>Averages</th>\n",
       "    </tr>\n",
       "  </thead>\n",
       "  <tbody>\n",
       "    <tr>\n",
       "      <th>0</th>\n",
       "      <td>False</td>\n",
       "      <td>False</td>\n",
       "      <td>False</td>\n",
       "    </tr>\n",
       "    <tr>\n",
       "      <th>1</th>\n",
       "      <td>False</td>\n",
       "      <td>False</td>\n",
       "      <td>False</td>\n",
       "    </tr>\n",
       "    <tr>\n",
       "      <th>2</th>\n",
       "      <td>False</td>\n",
       "      <td>False</td>\n",
       "      <td>False</td>\n",
       "    </tr>\n",
       "    <tr>\n",
       "      <th>3</th>\n",
       "      <td>False</td>\n",
       "      <td>False</td>\n",
       "      <td>False</td>\n",
       "    </tr>\n",
       "    <tr>\n",
       "      <th>4</th>\n",
       "      <td>False</td>\n",
       "      <td>False</td>\n",
       "      <td>False</td>\n",
       "    </tr>\n",
       "    <tr>\n",
       "      <th>5</th>\n",
       "      <td>False</td>\n",
       "      <td>False</td>\n",
       "      <td>False</td>\n",
       "    </tr>\n",
       "    <tr>\n",
       "      <th>6</th>\n",
       "      <td>False</td>\n",
       "      <td>False</td>\n",
       "      <td>False</td>\n",
       "    </tr>\n",
       "    <tr>\n",
       "      <th>7</th>\n",
       "      <td>False</td>\n",
       "      <td>False</td>\n",
       "      <td>False</td>\n",
       "    </tr>\n",
       "    <tr>\n",
       "      <th>8</th>\n",
       "      <td>False</td>\n",
       "      <td>False</td>\n",
       "      <td>False</td>\n",
       "    </tr>\n",
       "    <tr>\n",
       "      <th>9</th>\n",
       "      <td>False</td>\n",
       "      <td>False</td>\n",
       "      <td>False</td>\n",
       "    </tr>\n",
       "    <tr>\n",
       "      <th>10</th>\n",
       "      <td>False</td>\n",
       "      <td>False</td>\n",
       "      <td>False</td>\n",
       "    </tr>\n",
       "    <tr>\n",
       "      <th>11</th>\n",
       "      <td>False</td>\n",
       "      <td>False</td>\n",
       "      <td>False</td>\n",
       "    </tr>\n",
       "  </tbody>\n",
       "</table>\n",
       "</div>"
      ],
      "text/plain": [
       "    Month  Years  Averages\n",
       "0   False  False     False\n",
       "1   False  False     False\n",
       "2   False  False     False\n",
       "3   False  False     False\n",
       "4   False  False     False\n",
       "5   False  False     False\n",
       "6   False  False     False\n",
       "7   False  False     False\n",
       "8   False  False     False\n",
       "9   False  False     False\n",
       "10  False  False     False\n",
       "11  False  False     False"
      ]
     },
     "execution_count": 39,
     "metadata": {},
     "output_type": "execute_result"
    }
   ],
   "source": [
    "Inflation_Month_Year.isnull()"
   ]
  },
  {
   "cell_type": "code",
   "execution_count": 38,
   "id": "a1efb8c6",
   "metadata": {},
   "outputs": [
    {
     "data": {
      "text/plain": [
       "<AxesSubplot:>"
      ]
     },
     "execution_count": 38,
     "metadata": {},
     "output_type": "execute_result"
    },
    {
     "data": {
      "image/png": "[encoded data removed]",
      "text/plain": [
       "<Figure size 1800x720 with 2 Axes>"
      ]
     },
     "metadata": {},
     "output_type": "display_data"
    }
   ],
   "source": [
    "#//////////////////////////////////////////#\n",
    "# Missing Values #\n",
    "#/////////////////////////////////////////#\n",
    "\n",
    "msno.matrix(Inflation_Month_Year) \n",
    "##This shows how many variables are missing or how many rows are missing.\n",
    "#The White signifies missing and the gray singnifies that the value is there.\n",
    "##This is a very important step in any EDA(Exploratory Data Anaylsis) you want to make sure you understand exactly what's \n",
    "##missing that way as a Data Scienctist or Data Analysist you can determing what you want to do with this in the future!"
   ]
  },
  {
   "cell_type": "code",
   "execution_count": 22,
   "id": "b6004dbc",
   "metadata": {},
   "outputs": [
    {
     "data": {
      "text/html": [
       "<div>\n",
       "<style scoped>\n",
       "    .dataframe tbody tr th:only-of-type {\n",
       "        vertical-align: middle;\n",
       "    }\n",
       "\n",
       "    .dataframe tbody tr th {\n",
       "        vertical-align: top;\n",
       "    }\n",
       "\n",
       "    .dataframe thead th {\n",
       "        text-align: right;\n",
       "    }\n",
       "</style>\n",
       "<table border=\"1\" class=\"dataframe\">\n",
       "  <thead>\n",
       "    <tr style=\"text-align: right;\">\n",
       "      <th></th>\n",
       "      <th>Month</th>\n",
       "      <th>Years</th>\n",
       "      <th>Averages</th>\n",
       "    </tr>\n",
       "  </thead>\n",
       "  <tbody>\n",
       "    <tr>\n",
       "      <th>0</th>\n",
       "      <td>January</td>\n",
       "      <td>2010</td>\n",
       "      <td>1.625</td>\n",
       "    </tr>\n",
       "    <tr>\n",
       "      <th>1</th>\n",
       "      <td>February</td>\n",
       "      <td>2011</td>\n",
       "      <td>3.160</td>\n",
       "    </tr>\n",
       "    <tr>\n",
       "      <th>2</th>\n",
       "      <td>March</td>\n",
       "      <td>2012</td>\n",
       "      <td>2.083</td>\n",
       "    </tr>\n",
       "    <tr>\n",
       "      <th>3</th>\n",
       "      <td>April</td>\n",
       "      <td>2013</td>\n",
       "      <td>1.483</td>\n",
       "    </tr>\n",
       "    <tr>\n",
       "      <th>4</th>\n",
       "      <td>May</td>\n",
       "      <td>2014</td>\n",
       "      <td>1.630</td>\n",
       "    </tr>\n",
       "  </tbody>\n",
       "</table>\n",
       "</div>"
      ],
      "text/plain": [
       "      Month  Years  Averages\n",
       "0   January   2010     1.625\n",
       "1  February   2011     3.160\n",
       "2     March   2012     2.083\n",
       "3     April   2013     1.483\n",
       "4       May   2014     1.630"
      ]
     },
     "execution_count": 22,
     "metadata": {},
     "output_type": "execute_result"
    }
   ],
   "source": [
    "#New Dataframe with only columns with numbers\n",
    "Inflation_Month_Year1 = Inflation_Month_Year[['Month', 'Years', 'Averages']]\n",
    "pd.set_option('display.max_columns', None)\n",
    "Inflation_Month_Year1.head()"
   ]
  },
  {
   "cell_type": "code",
   "execution_count": 37,
   "id": "ee214829",
   "metadata": {},
   "outputs": [
    {
     "data": {
      "text/plain": [
       "<seaborn.axisgrid.PairGrid at 0x2132aad6190>"
      ]
     },
     "execution_count": 37,
     "metadata": {},
     "output_type": "execute_result"
    },
    {
     "data": {
      "image/png": "[encoded data removed]",
      "text/plain": [
       "<Figure size 360x360 with 6 Axes>"
      ]
     },
     "metadata": {},
     "output_type": "display_data"
    }
   ],
   "source": [
    "sns.pairplot(Inflation_Month_Year1[['Month', 'Years', 'Averages']])"
   ]
  },
  {
   "cell_type": "markdown",
   "id": "dccdbebf",
   "metadata": {},
   "source": [
    "# Bar Chart"
   ]
  },
  {
   "cell_type": "code",
   "execution_count": 23,
   "id": "b3db4e38",
   "metadata": {},
   "outputs": [
    {
     "data": {
      "image/png": "[encoded data removed]",
      "text/plain": [
       "<Figure size 1152x576 with 1 Axes>"
      ]
     },
     "metadata": {},
     "output_type": "display_data"
    }
   ],
   "source": [
    "# Months with the Annual Inflation Rates\n",
    "\n",
    "top_12_Months_Annual_Inflation_Rates = Inflation_Month_Year1.groupby(by = 'Years').max()[['Averages', 'Month']].sort_values(by = ['Years'], ascending = True).reset_index()\n",
    "fig = plt.figure(figsize=(16,8))\n",
    "plt.title(\"12 Months with the Annual Inflation Rates\", size = 14)\n",
    "ax = sns.barplot(data = top_12_Months_Annual_Inflation_Rates.iloc[:10], y = \"Averages\", x = \"Years\", linewidth = 2, edgecolor = 'red')\n",
    "plt.xlabel(\"Years\")\n",
    "plt.ylabel(\"Averages\")\n",
    "plt.show()"
   ]
  },
  {
   "cell_type": "code",
   "execution_count": 24,
   "id": "60be2ab8",
   "metadata": {},
   "outputs": [
    {
     "data": {
      "image/png": "[encoded data removed]",
      "text/plain": [
       "<Figure size 1152x576 with 1 Axes>"
      ]
     },
     "metadata": {},
     "output_type": "display_data"
    }
   ],
   "source": [
    "# Months with the Annual Inflation Rates\n",
    "\n",
    "top_12_Months_Annual_Inflation_Rates = Inflation_Month_Year1.groupby(by = 'Month').max()[['Averages', 'Years']].sort_values(by = ['Month'], ascending = True).reset_index()\n",
    "fig = plt.figure(figsize=(16,8))\n",
    "plt.title(\"12 Months with the Annual Inflation Rates\", size = 14)\n",
    "ax = sns.barplot(data = top_12_Months_Annual_Inflation_Rates.iloc[:10], y = \"Averages\", x = \"Month\", linewidth = 2, edgecolor = 'red')\n",
    "plt.xlabel(\"Month\")\n",
    "plt.ylabel(\"Averages\")\n",
    "plt.show()"
   ]
  },
  {
   "cell_type": "markdown",
   "id": "80420745",
   "metadata": {},
   "source": [
    "# Bar Graphs Displaying Inflation Rates by Month & Year"
   ]
  },
  {
   "cell_type": "code",
   "execution_count": 25,
   "id": "5e6444e4",
   "metadata": {},
   "outputs": [
    {
     "data": {
      "image/png": "[encoded data removed]",
      "text/plain": [
       "<Figure size 504x360 with 1 Axes>"
      ]
     },
     "metadata": {},
     "output_type": "display_data"
    }
   ],
   "source": [
    "fig = plt.figure(figsize=(7,5))\n",
    "Years = ['2010', '2011', '2012', '2013']\n",
    "Months = ['January', 'February', 'March', 'April']\n",
    "positions = [0,1,2,3]\n",
    "\n",
    "plt.bar(positions, Months, width=0.5, color=\"r\")\n",
    "plt.xticks(positions, Years)\n",
    "plt.show()"
   ]
  },
  {
   "cell_type": "code",
   "execution_count": 26,
   "id": "7e548a09",
   "metadata": {},
   "outputs": [
    {
     "data": {
      "image/png": "[encoded data removed]",
      "text/plain": [
       "<Figure size 504x360 with 1 Axes>"
      ]
     },
     "metadata": {},
     "output_type": "display_data"
    }
   ],
   "source": [
    "fig = plt.figure(figsize=(7,5))\n",
    "Years = ['2014', '2015', '2016', '2017']\n",
    "Months = ['January', 'February', 'March', 'April']\n",
    "positions = [0,1,2,3]\n",
    "\n",
    "plt.bar(positions, Months, width=0.5, color=\"g\")\n",
    "plt.xticks(positions, Years)\n",
    "plt.show()"
   ]
  },
  {
   "cell_type": "code",
   "execution_count": 27,
   "id": "5c7cc5c8",
   "metadata": {},
   "outputs": [
    {
     "data": {
      "image/png": "[encoded data removed]",
      "text/plain": [
       "<Figure size 504x360 with 1 Axes>"
      ]
     },
     "metadata": {},
     "output_type": "display_data"
    }
   ],
   "source": [
    "fig = plt.figure(figsize=(7,5))\n",
    "Years = ['2018', '2019','2020', '2021']\n",
    "Months = ['January', 'February', 'March', 'April']\n",
    "positions = [0,1,2,3]\n",
    "\n",
    "plt.bar(positions, Months, width=0.5, color=\"y\")\n",
    "plt.xticks(positions, Years)\n",
    "plt.show()"
   ]
  },
  {
   "cell_type": "code",
   "execution_count": 28,
   "id": "aa503985",
   "metadata": {},
   "outputs": [
    {
     "data": {
      "image/png": "[encoded data removed]",
      "text/plain": [
       "<Figure size 504x360 with 1 Axes>"
      ]
     },
     "metadata": {},
     "output_type": "display_data"
    }
   ],
   "source": [
    "fig = plt.figure(figsize=(7,5))\n",
    "Years = ['2010', '2011', '2012', '2013']\n",
    "Months = ['May', 'June', 'July', 'August']\n",
    "positions = [0,1,2,3]\n",
    "\n",
    "plt.bar(positions, Months, width=0.5, color=\"r\")\n",
    "plt.xticks(positions, Years)\n",
    "plt.show()"
   ]
  },
  {
   "cell_type": "code",
   "execution_count": 29,
   "id": "f8914ca4",
   "metadata": {},
   "outputs": [
    {
     "data": {
      "image/png": "[encoded data removed]",
      "text/plain": [
       "<Figure size 504x360 with 1 Axes>"
      ]
     },
     "metadata": {},
     "output_type": "display_data"
    }
   ],
   "source": [
    "fig = plt.figure(figsize=(7,5))\n",
    "Years = ['2014', '2015','2016', '2017']\n",
    "Months = ['May', 'June', 'July', 'August']\n",
    "positions = [0,1,2,3]\n",
    "\n",
    "plt.bar(positions, Months, width=0.5, color=\"g\")\n",
    "plt.xticks(positions, Years)\n",
    "plt.show()"
   ]
  },
  {
   "cell_type": "code",
   "execution_count": 30,
   "id": "fd21f55c",
   "metadata": {},
   "outputs": [
    {
     "data": {
      "image/png": "[encoded data removed]",
      "text/plain": [
       "<Figure size 504x360 with 1 Axes>"
      ]
     },
     "metadata": {},
     "output_type": "display_data"
    }
   ],
   "source": [
    "fig = plt.figure(figsize=(7,5))\n",
    "Years = ['2018', '2019','2020', '2021']\n",
    "Months = ['May', 'June', 'July', 'August']\n",
    "positions = [0,1,2,3]\n",
    "\n",
    "plt.bar(positions, Months, width=0.5, color=\"b\")\n",
    "plt.xticks(positions, Years)\n",
    "plt.show()"
   ]
  },
  {
   "cell_type": "code",
   "execution_count": 31,
   "id": "5a9da59d",
   "metadata": {},
   "outputs": [
    {
     "data": {
      "image/png": "[encoded data removed]",
      "text/plain": [
       "<Figure size 504x360 with 1 Axes>"
      ]
     },
     "metadata": {},
     "output_type": "display_data"
    }
   ],
   "source": [
    "fig = plt.figure(figsize=(7,5))\n",
    "Years = ['2010', '2011', '2012', '2013']\n",
    "Months = ['September', 'October', 'November', 'December']\n",
    "positions = [0,1,2,3]\n",
    "\n",
    "plt.bar(positions, Months, width=0.5, color=\"r\")\n",
    "plt.xticks(positions, Years)\n",
    "plt.show()"
   ]
  },
  {
   "cell_type": "code",
   "execution_count": 32,
   "id": "ab8cbfb8",
   "metadata": {},
   "outputs": [
    {
     "data": {
      "image/png": "[encoded data removed]",
      "text/plain": [
       "<Figure size 504x360 with 1 Axes>"
      ]
     },
     "metadata": {},
     "output_type": "display_data"
    }
   ],
   "source": [
    "fig = plt.figure(figsize=(7,5))\n",
    "Years = ['2014', '2015', '2016', '2017']\n",
    "Months = ['September', 'October', 'November', 'December']\n",
    "positions = [0,1,2,3]\n",
    "\n",
    "plt.bar(positions, Months, width=0.5, color=\"g\")\n",
    "plt.xticks(positions, Years)\n",
    "plt.show()"
   ]
  },
  {
   "cell_type": "code",
   "execution_count": 33,
   "id": "a04486b6",
   "metadata": {},
   "outputs": [
    {
     "data": {
      "image/png": "[encoded data removed]",
      "text/plain": [
       "<Figure size 504x360 with 1 Axes>"
      ]
     },
     "metadata": {},
     "output_type": "display_data"
    }
   ],
   "source": [
    "fig = plt.figure(figsize=(7,5))\n",
    "Years = ['2018', '2019', '2020', '2021']\n",
    "Months = ['September', 'October', 'November', 'December']\n",
    "positions = [0,1,2,3]\n",
    "\n",
    "plt.bar(positions, Months, width=0.5, color=\"b\")\n",
    "plt.xticks(positions, Years)\n",
    "plt.show()"
   ]
  },
  {
   "cell_type": "markdown",
   "id": "27f3c820",
   "metadata": {},
   "source": [
    "# Bar Graph Displaying Years & Averages with Inflation"
   ]
  },
  {
   "cell_type": "code",
   "execution_count": 34,
   "id": "de6f3f96",
   "metadata": {},
   "outputs": [
    {
     "data": {
      "image/png": "[encoded data removed]",
      "text/plain": [
       "<Figure size 504x360 with 1 Axes>"
      ]
     },
     "metadata": {},
     "output_type": "display_data"
    }
   ],
   "source": [
    "fig = plt.figure(figsize=(7,5))\n",
    "Years = ['2010', '2011','2012', '2013']\n",
    "Averages = [1.625, 3.16, 2.083, 1.483]\n",
    "positions = [0,1,2,3]\n",
    "\n",
    "plt.bar(positions, Years, width=0.3,color=\"g\")\n",
    "plt.xticks(positions, Averages)\n",
    "plt.show()"
   ]
  },
  {
   "cell_type": "code",
   "execution_count": 35,
   "id": "6b611cd0",
   "metadata": {},
   "outputs": [
    {
     "data": {
      "image/png": "[encoded data removed]",
      "text/plain": [
       "<Figure size 504x360 with 1 Axes>"
      ]
     },
     "metadata": {},
     "output_type": "display_data"
    }
   ],
   "source": [
    "fig = plt.figure(figsize=(7,5))\n",
    "Years = ['2014', '2015','2016', '2017']\n",
    "Averages = [1.63, 0.125, 1.266, 2.116]\n",
    "positions = [0,1,2,3]\n",
    "\n",
    "plt.bar(positions, Years, width=0.3,color=\"r\")\n",
    "plt.xticks(positions, Averages)\n",
    "plt.show()"
   ]
  },
  {
   "cell_type": "code",
   "execution_count": 36,
   "id": "95fa9161",
   "metadata": {},
   "outputs": [
    {
     "data": {
      "image/png": "[encoded data removed]",
      "text/plain": [
       "<Figure size 504x360 with 1 Axes>"
      ]
     },
     "metadata": {},
     "output_type": "display_data"
    }
   ],
   "source": [
    "fig = plt.figure(figsize=(7,5))\n",
    "Years = ['2018', '2019','2020', '2021']\n",
    "Averages = [2.45, 1.816, 1.23, 4.7]\n",
    "positions = [0,1,2,3]\n",
    "\n",
    "plt.bar(positions, Years, width=0.3,color=\"y\")\n",
    "plt.xticks(positions, Averages)\n",
    "plt.show()"
   ]
  }
 ],
 "metadata": {
  "kernelspec": {
   "display_name": "Python 3",
   "language": "python",
   "name": "python3"
  },
  "language_info": {
   "codemirror_mode": {
    "name": "ipython",
    "version": 3
   },
   "file_extension": ".py",
   "mimetype": "text/x-python",
   "name": "python",
   "nbconvert_exporter": "python",
   "pygments_lexer": "ipython3",
   "version": "3.8.8"
  }
 },
 "nbformat": 4,
 "nbformat_minor": 5
}

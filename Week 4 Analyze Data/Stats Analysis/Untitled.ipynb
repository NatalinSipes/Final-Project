{
 "cells": [
  {
   "cell_type": "code",
   "execution_count": 1,
   "id": "822b7f63-7c34-4b38-9899-100ebf657c25",
   "metadata": {},
   "outputs": [],
   "source": [
    "import pandas as pd\n",
    "import numpy as np\n",
    "from sklearn import linear_model\n",
    "import matplotlib.pyplot as plt\n",
    "import seaborn as sns"
   ]
  },
  {
   "cell_type": "code",
   "execution_count": 2,
   "id": "e8dbb4b5-e563-4904-9594-ad855b04722d",
   "metadata": {},
   "outputs": [],
   "source": [
    "data16 = pd.read_excel(\"anova2016.xlsx\")"
   ]
  },
  {
   "cell_type": "code",
   "execution_count": 3,
   "id": "7fb7daa5-ed07-49ab-b613-85c2e3865297",
   "metadata": {},
   "outputs": [
    {
     "data": {
      "text/html": [
       "<div>\n",
       "<style scoped>\n",
       "    .dataframe tbody tr th:only-of-type {\n",
       "        vertical-align: middle;\n",
       "    }\n",
       "\n",
       "    .dataframe tbody tr th {\n",
       "        vertical-align: top;\n",
       "    }\n",
       "\n",
       "    .dataframe thead th {\n",
       "        text-align: right;\n",
       "    }\n",
       "</style>\n",
       "<table border=\"1\" class=\"dataframe\">\n",
       "  <thead>\n",
       "    <tr style=\"text-align: right;\">\n",
       "      <th></th>\n",
       "      <th>State</th>\n",
       "      <th>StateID</th>\n",
       "      <th>Region</th>\n",
       "      <th>Unemployment_Rate(%)</th>\n",
       "      <th>Pop_Below_Poverty(%)</th>\n",
       "      <th>Inflation(%)</th>\n",
       "      <th>Food_Insecurity(%)</th>\n",
       "      <th>Child_FI(%)</th>\n",
       "    </tr>\n",
       "  </thead>\n",
       "  <tbody>\n",
       "    <tr>\n",
       "      <th>0</th>\n",
       "      <td>Alabama</td>\n",
       "      <td>0</td>\n",
       "      <td>1</td>\n",
       "      <td>5.858333</td>\n",
       "      <td>16.2</td>\n",
       "      <td>1.3</td>\n",
       "      <td>13.4</td>\n",
       "      <td>18.6</td>\n",
       "    </tr>\n",
       "    <tr>\n",
       "      <th>1</th>\n",
       "      <td>Alaska</td>\n",
       "      <td>1</td>\n",
       "      <td>4</td>\n",
       "      <td>6.908333</td>\n",
       "      <td>12.6</td>\n",
       "      <td>1.3</td>\n",
       "      <td>16.5</td>\n",
       "      <td>22.5</td>\n",
       "    </tr>\n",
       "    <tr>\n",
       "      <th>2</th>\n",
       "      <td>Arizona</td>\n",
       "      <td>2</td>\n",
       "      <td>3</td>\n",
       "      <td>5.375000</td>\n",
       "      <td>16.1</td>\n",
       "      <td>1.3</td>\n",
       "      <td>17.2</td>\n",
       "      <td>23.2</td>\n",
       "    </tr>\n",
       "    <tr>\n",
       "      <th>3</th>\n",
       "      <td>Arkansas</td>\n",
       "      <td>3</td>\n",
       "      <td>1</td>\n",
       "      <td>3.950000</td>\n",
       "      <td>16.0</td>\n",
       "      <td>1.3</td>\n",
       "      <td>14.9</td>\n",
       "      <td>22.7</td>\n",
       "    </tr>\n",
       "    <tr>\n",
       "      <th>4</th>\n",
       "      <td>California</td>\n",
       "      <td>4</td>\n",
       "      <td>4</td>\n",
       "      <td>5.483333</td>\n",
       "      <td>13.9</td>\n",
       "      <td>1.3</td>\n",
       "      <td>11.7</td>\n",
       "      <td>19.0</td>\n",
       "    </tr>\n",
       "  </tbody>\n",
       "</table>\n",
       "</div>"
      ],
      "text/plain": [
       "        State  StateID  Region  Unemployment_Rate(%)  Pop_Below_Poverty(%)  \\\n",
       "0     Alabama        0       1              5.858333                  16.2   \n",
       "1      Alaska        1       4              6.908333                  12.6   \n",
       "2     Arizona        2       3              5.375000                  16.1   \n",
       "3    Arkansas        3       1              3.950000                  16.0   \n",
       "4  California        4       4              5.483333                  13.9   \n",
       "\n",
       "   Inflation(%)  Food_Insecurity(%)  Child_FI(%)  \n",
       "0           1.3                13.4         18.6  \n",
       "1           1.3                16.5         22.5  \n",
       "2           1.3                17.2         23.2  \n",
       "3           1.3                14.9         22.7  \n",
       "4           1.3                11.7         19.0  "
      ]
     },
     "execution_count": 3,
     "metadata": {},
     "output_type": "execute_result"
    }
   ],
   "source": [
    "data16.head()"
   ]
  },
  {
   "cell_type": "code",
   "execution_count": 5,
   "id": "3c16ba26-6bb8-47b8-a80f-bf8852f727fd",
   "metadata": {},
   "outputs": [
    {
     "data": {
      "text/plain": [
       "State                    object\n",
       "StateID                   int64\n",
       "Region                    int64\n",
       "Unemployment_Rate(%)    float64\n",
       "Pop_Below_Poverty(%)    float64\n",
       "Inflation(%)            float64\n",
       "Food_Insecurity(%)      float64\n",
       "Child_FI(%)             float64\n",
       "dtype: object"
      ]
     },
     "execution_count": 5,
     "metadata": {},
     "output_type": "execute_result"
    }
   ],
   "source": [
    "data16.dtypes"
   ]
  },
  {
   "cell_type": "code",
   "execution_count": 6,
   "id": "1176acf2-8b1c-4a49-8236-ef82380aac35",
   "metadata": {},
   "outputs": [],
   "source": [
    "reg = linear_model.LinearRegression()"
   ]
  },
  {
   "cell_type": "code",
   "execution_count": null,
   "id": "f52dc00a-2a24-4ade-8b94-9390712e6d6b",
   "metadata": {},
   "outputs": [],
   "source": [
    "reg.fit(data16[['StateID','Unemployment_Rate(%)','Pop_Below_Poverty(%)','Inflation(%)']], data2016.'Food_Insecurity(%)' )"
   ]
  }
 ],
 "metadata": {
  "kernelspec": {
   "display_name": "Python 3",
   "language": "python",
   "name": "python3"
  },
  "language_info": {
   "codemirror_mode": {
    "name": "ipython",
    "version": 3
   },
   "file_extension": ".py",
   "mimetype": "text/x-python",
   "name": "python",
   "nbconvert_exporter": "python",
   "pygments_lexer": "ipython3",
   "version": "3.8.8"
  }
 },
 "nbformat": 4,
 "nbformat_minor": 5
}

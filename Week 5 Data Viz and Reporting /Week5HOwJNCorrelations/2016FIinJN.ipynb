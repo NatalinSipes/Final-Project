{
 "cells": [
  {
   "cell_type": "markdown",
   "id": "401fa29b",
   "metadata": {},
   "source": [
    "# 2016 Food Insecurity Correlations in JN"
   ]
  },
  {
   "cell_type": "code",
   "execution_count": 2,
   "id": "2efbdb22",
   "metadata": {},
   "outputs": [
    {
     "name": "stdout",
     "output_type": "stream",
     "text": [
      "Collecting package metadata (current_repodata.json): ...working... done\n",
      "Solving environment: ...working... done\n",
      "\n",
      "## Package Plan ##\n",
      "\n",
      "  environment location: C:\\Users\\NBrad\\anaconda3\n",
      "\n",
      "  added / updated specs:\n",
      "    - missingno\n",
      "\n",
      "\n",
      "The following packages will be downloaded:\n",
      "\n",
      "    package                    |            build\n",
      "    ---------------------------|-----------------\n",
      "    missingno-0.4.1            |             py_0          10 KB  conda-forge/label/gcc7\n",
      "    ------------------------------------------------------------\n",
      "                                           Total:          10 KB\n",
      "\n",
      "The following NEW packages will be INSTALLED:\n",
      "\n",
      "  missingno          conda-forge/label/gcc7/noarch::missingno-0.4.1-py_0\n",
      "\n",
      "\n",
      "\n",
      "Downloading and Extracting Packages\n",
      "\n",
      "missingno-0.4.1      | 10 KB     |            |   0% \n",
      "missingno-0.4.1      | 10 KB     | ########## | 100% \n",
      "missingno-0.4.1      | 10 KB     | ########## | 100% \n",
      "Preparing transaction: ...working... done\n",
      "Verifying transaction: ...working... done\n",
      "Executing transaction: ...working... done\n",
      "\n",
      "Note: you may need to restart the kernel to use updated packages.\n"
     ]
    }
   ],
   "source": [
    "conda install -c conda-forge/label/gcc7 missingno"
   ]
  },
  {
   "cell_type": "code",
   "execution_count": 4,
   "id": "6bfcff45",
   "metadata": {},
   "outputs": [
    {
     "name": "stdout",
     "output_type": "stream",
     "text": [
      "Collecting package metadata (current_repodata.json): ...working... done\n",
      "Solving environment: ...working... done\n",
      "\n",
      "## Package Plan ##\n",
      "\n",
      "  environment location: C:\\Users\\NBrad\\anaconda3\n",
      "\n",
      "  added / updated specs:\n",
      "    - jupyter\n",
      "\n",
      "\n",
      "The following packages will be downloaded:\n",
      "\n",
      "    package                    |            build\n",
      "    ---------------------------|-----------------\n",
      "    conda-4.12.0               |   py38haa95532_0        14.5 MB\n",
      "    ------------------------------------------------------------\n",
      "                                           Total:        14.5 MB\n",
      "\n",
      "The following packages will be REMOVED:\n",
      "\n",
      "  xmltodict-0.12.0-py_0\n",
      "\n",
      "The following packages will be UPDATED:\n",
      "\n",
      "  conda                               4.11.0-py38haa95532_0 --> 4.12.0-py38haa95532_0\n",
      "\n",
      "\n",
      "\n",
      "Downloading and Extracting Packages\n",
      "\n",
      "conda-4.12.0         | 14.5 MB   |            |   0% \n",
      "conda-4.12.0         | 14.5 MB   |            |   0% \n",
      "conda-4.12.0         | 14.5 MB   | #9         |  19% \n",
      "conda-4.12.0         | 14.5 MB   | #####2     |  52% \n",
      "conda-4.12.0         | 14.5 MB   | #########1 |  92% \n",
      "conda-4.12.0         | 14.5 MB   | ########## | 100% \n",
      "Preparing transaction: ...working... done\n",
      "Verifying transaction: ...working... done\n",
      "Executing transaction: ...working... done\n",
      "\n",
      "Note: you may need to restart the kernel to use updated packages.\n"
     ]
    }
   ],
   "source": [
    "conda update Jupyter"
   ]
  },
  {
   "cell_type": "code",
   "execution_count": 3,
   "id": "1a4e8e0a",
   "metadata": {},
   "outputs": [],
   "source": [
    "import pandas as pd\n",
    "import seaborn\n",
    "import seaborn as sns\n",
    "import matplotlib.pyplot as plt\n",
    "import missingno as msno\n",
    "import numpy as np\n",
    "from numpy import nan"
   ]
  },
  {
   "cell_type": "markdown",
   "id": "a8ad1c83",
   "metadata": {},
   "source": [
    "# Read-in Data"
   ]
  },
  {
   "cell_type": "code",
   "execution_count": 9,
   "id": "efc5bce1",
   "metadata": {},
   "outputs": [],
   "source": [
    "Feeding_People = pd.read_excel(\"C:/Users/NBrad/OneDrive/Desktop/Woz U/Final Project/Final Project Week 5/Stats2016new.xlsx\")"
   ]
  },
  {
   "cell_type": "markdown",
   "id": "e68d1f29",
   "metadata": {},
   "source": [
    "## Head()\n",
    "## Best way to always call your datasets to insure it's properly loaded up"
   ]
  },
  {
   "cell_type": "code",
   "execution_count": 10,
   "id": "e3840551",
   "metadata": {},
   "outputs": [
    {
     "data": {
      "text/html": [
       "<div>\n",
       "<style scoped>\n",
       "    .dataframe tbody tr th:only-of-type {\n",
       "        vertical-align: middle;\n",
       "    }\n",
       "\n",
       "    .dataframe tbody tr th {\n",
       "        vertical-align: top;\n",
       "    }\n",
       "\n",
       "    .dataframe thead th {\n",
       "        text-align: right;\n",
       "    }\n",
       "</style>\n",
       "<table border=\"1\" class=\"dataframe\">\n",
       "  <thead>\n",
       "    <tr style=\"text-align: right;\">\n",
       "      <th></th>\n",
       "      <th>State</th>\n",
       "      <th>StateID</th>\n",
       "      <th>Region</th>\n",
       "      <th>Unemployment_Rate</th>\n",
       "      <th>Pop_Below_Poverty</th>\n",
       "      <th>RPPall</th>\n",
       "      <th>Food_Insecurity</th>\n",
       "      <th>Child_FI</th>\n",
       "    </tr>\n",
       "  </thead>\n",
       "  <tbody>\n",
       "    <tr>\n",
       "      <th>0</th>\n",
       "      <td>Alabama</td>\n",
       "      <td>0</td>\n",
       "      <td>1</td>\n",
       "      <td>5.858333</td>\n",
       "      <td>16.2</td>\n",
       "      <td>91.122</td>\n",
       "      <td>13.4</td>\n",
       "      <td>18.6</td>\n",
       "    </tr>\n",
       "    <tr>\n",
       "      <th>1</th>\n",
       "      <td>Alaska</td>\n",
       "      <td>1</td>\n",
       "      <td>4</td>\n",
       "      <td>6.908333</td>\n",
       "      <td>12.6</td>\n",
       "      <td>105.048</td>\n",
       "      <td>16.5</td>\n",
       "      <td>22.5</td>\n",
       "    </tr>\n",
       "    <tr>\n",
       "      <th>2</th>\n",
       "      <td>Arizona</td>\n",
       "      <td>2</td>\n",
       "      <td>3</td>\n",
       "      <td>5.375000</td>\n",
       "      <td>16.1</td>\n",
       "      <td>98.968</td>\n",
       "      <td>17.2</td>\n",
       "      <td>23.2</td>\n",
       "    </tr>\n",
       "    <tr>\n",
       "      <th>3</th>\n",
       "      <td>Arkansas</td>\n",
       "      <td>3</td>\n",
       "      <td>1</td>\n",
       "      <td>3.950000</td>\n",
       "      <td>16.0</td>\n",
       "      <td>89.845</td>\n",
       "      <td>14.9</td>\n",
       "      <td>22.7</td>\n",
       "    </tr>\n",
       "    <tr>\n",
       "      <th>4</th>\n",
       "      <td>California</td>\n",
       "      <td>4</td>\n",
       "      <td>4</td>\n",
       "      <td>5.483333</td>\n",
       "      <td>13.9</td>\n",
       "      <td>108.544</td>\n",
       "      <td>11.7</td>\n",
       "      <td>19.0</td>\n",
       "    </tr>\n",
       "  </tbody>\n",
       "</table>\n",
       "</div>"
      ],
      "text/plain": [
       "        State  StateID  Region  Unemployment_Rate  Pop_Below_Poverty   RPPall  \\\n",
       "0     Alabama        0       1           5.858333               16.2   91.122   \n",
       "1      Alaska        1       4           6.908333               12.6  105.048   \n",
       "2     Arizona        2       3           5.375000               16.1   98.968   \n",
       "3    Arkansas        3       1           3.950000               16.0   89.845   \n",
       "4  California        4       4           5.483333               13.9  108.544   \n",
       "\n",
       "   Food_Insecurity  Child_FI  \n",
       "0             13.4      18.6  \n",
       "1             16.5      22.5  \n",
       "2             17.2      23.2  \n",
       "3             14.9      22.7  \n",
       "4             11.7      19.0  "
      ]
     },
     "execution_count": 10,
     "metadata": {},
     "output_type": "execute_result"
    }
   ],
   "source": [
    "Feeding_People.head()"
   ]
  },
  {
   "cell_type": "markdown",
   "id": "73678c49",
   "metadata": {},
   "source": [
    "## View columns and (copy & paste to make new dataframe)\n"
   ]
  },
  {
   "cell_type": "code",
   "execution_count": 11,
   "id": "5dde501c",
   "metadata": {},
   "outputs": [
    {
     "data": {
      "text/plain": [
       "Index(['State', 'StateID', 'Region', 'Unemployment_Rate', 'Pop_Below_Poverty',\n",
       "       'RPPall', 'Food_Insecurity', 'Child_FI'],\n",
       "      dtype='object')"
      ]
     },
     "execution_count": 11,
     "metadata": {},
     "output_type": "execute_result"
    }
   ],
   "source": [
    "Feeding_People.columns"
   ]
  },
  {
   "cell_type": "markdown",
   "id": "7ac1679c",
   "metadata": {},
   "source": [
    "# Univariate Analysis\n",
    "## Common Data Types"
   ]
  },
  {
   "cell_type": "code",
   "execution_count": 12,
   "id": "5b15a345",
   "metadata": {},
   "outputs": [
    {
     "data": {
      "text/plain": [
       "State                 object\n",
       "StateID                int64\n",
       "Region                 int64\n",
       "Unemployment_Rate    float64\n",
       "Pop_Below_Poverty    float64\n",
       "RPPall               float64\n",
       "Food_Insecurity      float64\n",
       "Child_FI             float64\n",
       "dtype: object"
      ]
     },
     "execution_count": 12,
     "metadata": {},
     "output_type": "execute_result"
    }
   ],
   "source": [
    "Feeding_People.dtypes"
   ]
  },
  {
   "cell_type": "code",
   "execution_count": 13,
   "id": "074082b4",
   "metadata": {},
   "outputs": [
    {
     "name": "stdout",
     "output_type": "stream",
     "text": [
      "<class 'pandas.core.frame.DataFrame'>\n",
      "RangeIndex: 51 entries, 0 to 50\n",
      "Data columns (total 8 columns):\n",
      " #   Column             Non-Null Count  Dtype  \n",
      "---  ------             --------------  -----  \n",
      " 0   State              51 non-null     object \n",
      " 1   StateID            51 non-null     int64  \n",
      " 2   Region             51 non-null     int64  \n",
      " 3   Unemployment_Rate  51 non-null     float64\n",
      " 4   Pop_Below_Poverty  51 non-null     float64\n",
      " 5   RPPall             51 non-null     float64\n",
      " 6   Food_Insecurity    51 non-null     float64\n",
      " 7   Child_FI           51 non-null     float64\n",
      "dtypes: float64(5), int64(2), object(1)\n",
      "memory usage: 3.3+ KB\n"
     ]
    }
   ],
   "source": [
    "Feeding_People.info()"
   ]
  },
  {
   "cell_type": "code",
   "execution_count": 14,
   "id": "ed3f5d8a",
   "metadata": {},
   "outputs": [
    {
     "data": {
      "text/plain": [
       "<AxesSubplot:>"
      ]
     },
     "execution_count": 14,
     "metadata": {},
     "output_type": "execute_result"
    },
    {
     "data": {
      "image/png": "[encoded data removed]",
      "text/plain": [
       "<Figure size 1800x720 with 2 Axes>"
      ]
     },
     "metadata": {
      "needs_background": "light"
     },
     "output_type": "display_data"
    }
   ],
   "source": [
    "#//////////////////////////////////////////#\n",
    "# Missing Values #\n",
    "#/////////////////////////////////////////#\n",
    "\n",
    "msno.matrix(Feeding_People) \n",
    "##This shows how many variables are missing or how many rows are missing.\n",
    "#The White signifies missing and the gray singnifies that the value is there.\n",
    "##This is a very important step in any EDA(Exploratory Data Anaylsis) you want to make sure you understand exactly what's \n",
    "##missing that way as a Data Scienctist or Data Analysist you can determing what you want to do with this in the future!"
   ]
  },
  {
   "cell_type": "code",
   "execution_count": 15,
   "id": "1e665d6b",
   "metadata": {
    "scrolled": true
   },
   "outputs": [
    {
     "data": {
      "text/html": [
       "<div>\n",
       "<style scoped>\n",
       "    .dataframe tbody tr th:only-of-type {\n",
       "        vertical-align: middle;\n",
       "    }\n",
       "\n",
       "    .dataframe tbody tr th {\n",
       "        vertical-align: top;\n",
       "    }\n",
       "\n",
       "    .dataframe thead th {\n",
       "        text-align: right;\n",
       "    }\n",
       "</style>\n",
       "<table border=\"1\" class=\"dataframe\">\n",
       "  <thead>\n",
       "    <tr style=\"text-align: right;\">\n",
       "      <th></th>\n",
       "      <th>State</th>\n",
       "      <th>RPPall</th>\n",
       "      <th>Pop_Below_Poverty</th>\n",
       "      <th>Food_Insecurity</th>\n",
       "      <th>Child_FI</th>\n",
       "      <th>Unemployment_Rate</th>\n",
       "    </tr>\n",
       "  </thead>\n",
       "  <tbody>\n",
       "    <tr>\n",
       "      <th>0</th>\n",
       "      <td>Alabama</td>\n",
       "      <td>91.122</td>\n",
       "      <td>16.2</td>\n",
       "      <td>13.4</td>\n",
       "      <td>18.6</td>\n",
       "      <td>5.858333</td>\n",
       "    </tr>\n",
       "    <tr>\n",
       "      <th>1</th>\n",
       "      <td>Alaska</td>\n",
       "      <td>105.048</td>\n",
       "      <td>12.6</td>\n",
       "      <td>16.5</td>\n",
       "      <td>22.5</td>\n",
       "      <td>6.908333</td>\n",
       "    </tr>\n",
       "    <tr>\n",
       "      <th>2</th>\n",
       "      <td>Arizona</td>\n",
       "      <td>98.968</td>\n",
       "      <td>16.1</td>\n",
       "      <td>17.2</td>\n",
       "      <td>23.2</td>\n",
       "      <td>5.375000</td>\n",
       "    </tr>\n",
       "    <tr>\n",
       "      <th>3</th>\n",
       "      <td>Arkansas</td>\n",
       "      <td>89.845</td>\n",
       "      <td>16.0</td>\n",
       "      <td>14.9</td>\n",
       "      <td>22.7</td>\n",
       "      <td>3.950000</td>\n",
       "    </tr>\n",
       "    <tr>\n",
       "      <th>4</th>\n",
       "      <td>California</td>\n",
       "      <td>108.544</td>\n",
       "      <td>13.9</td>\n",
       "      <td>11.7</td>\n",
       "      <td>19.0</td>\n",
       "      <td>5.483333</td>\n",
       "    </tr>\n",
       "  </tbody>\n",
       "</table>\n",
       "</div>"
      ],
      "text/plain": [
       "        State   RPPall  Pop_Below_Poverty  Food_Insecurity  Child_FI  \\\n",
       "0     Alabama   91.122               16.2             13.4      18.6   \n",
       "1      Alaska  105.048               12.6             16.5      22.5   \n",
       "2     Arizona   98.968               16.1             17.2      23.2   \n",
       "3    Arkansas   89.845               16.0             14.9      22.7   \n",
       "4  California  108.544               13.9             11.7      19.0   \n",
       "\n",
       "   Unemployment_Rate  \n",
       "0           5.858333  \n",
       "1           6.908333  \n",
       "2           5.375000  \n",
       "3           3.950000  \n",
       "4           5.483333  "
      ]
     },
     "execution_count": 15,
     "metadata": {},
     "output_type": "execute_result"
    }
   ],
   "source": [
    "#New Dataframe with only columns with numbers\n",
    "Feeding_People1 = Feeding_People[['State', 'RPPall', 'Pop_Below_Poverty', 'Food_Insecurity', 'Child_FI','Unemployment_Rate']]\n",
    "Feeding_People1.head()"
   ]
  },
  {
   "cell_type": "markdown",
   "id": "03c7cbe8",
   "metadata": {},
   "source": [
    "# Correlation "
   ]
  },
  {
   "cell_type": "code",
   "execution_count": 21,
   "id": "4e58e04f",
   "metadata": {},
   "outputs": [
    {
     "data": {
      "text/html": [
       "<div>\n",
       "<style scoped>\n",
       "    .dataframe tbody tr th:only-of-type {\n",
       "        vertical-align: middle;\n",
       "    }\n",
       "\n",
       "    .dataframe tbody tr th {\n",
       "        vertical-align: top;\n",
       "    }\n",
       "\n",
       "    .dataframe thead th {\n",
       "        text-align: right;\n",
       "    }\n",
       "</style>\n",
       "<table border=\"1\" class=\"dataframe\">\n",
       "  <thead>\n",
       "    <tr style=\"text-align: right;\">\n",
       "      <th></th>\n",
       "      <th>RPPall</th>\n",
       "      <th>Pop_Below_Poverty</th>\n",
       "      <th>Food_Insecurity</th>\n",
       "      <th>Child_FI</th>\n",
       "      <th>Unemployment_Rate</th>\n",
       "    </tr>\n",
       "  </thead>\n",
       "  <tbody>\n",
       "    <tr>\n",
       "      <th>RPPall</th>\n",
       "      <td>1.000000</td>\n",
       "      <td>-0.410251</td>\n",
       "      <td>-0.224091</td>\n",
       "      <td>-0.086673</td>\n",
       "      <td>0.074514</td>\n",
       "    </tr>\n",
       "    <tr>\n",
       "      <th>Pop_Below_Poverty</th>\n",
       "      <td>-0.410251</td>\n",
       "      <td>1.000000</td>\n",
       "      <td>0.381570</td>\n",
       "      <td>0.358440</td>\n",
       "      <td>0.605770</td>\n",
       "    </tr>\n",
       "    <tr>\n",
       "      <th>Food_Insecurity</th>\n",
       "      <td>-0.224091</td>\n",
       "      <td>0.381570</td>\n",
       "      <td>1.000000</td>\n",
       "      <td>0.883697</td>\n",
       "      <td>0.369243</td>\n",
       "    </tr>\n",
       "    <tr>\n",
       "      <th>Child_FI</th>\n",
       "      <td>-0.086673</td>\n",
       "      <td>0.358440</td>\n",
       "      <td>0.883697</td>\n",
       "      <td>1.000000</td>\n",
       "      <td>0.351646</td>\n",
       "    </tr>\n",
       "    <tr>\n",
       "      <th>Unemployment_Rate</th>\n",
       "      <td>0.074514</td>\n",
       "      <td>0.605770</td>\n",
       "      <td>0.369243</td>\n",
       "      <td>0.351646</td>\n",
       "      <td>1.000000</td>\n",
       "    </tr>\n",
       "  </tbody>\n",
       "</table>\n",
       "</div>"
      ],
      "text/plain": [
       "                     RPPall  Pop_Below_Poverty  Food_Insecurity  Child_FI  \\\n",
       "RPPall             1.000000          -0.410251        -0.224091 -0.086673   \n",
       "Pop_Below_Poverty -0.410251           1.000000         0.381570  0.358440   \n",
       "Food_Insecurity   -0.224091           0.381570         1.000000  0.883697   \n",
       "Child_FI          -0.086673           0.358440         0.883697  1.000000   \n",
       "Unemployment_Rate  0.074514           0.605770         0.369243  0.351646   \n",
       "\n",
       "                   Unemployment_Rate  \n",
       "RPPall                      0.074514  \n",
       "Pop_Below_Poverty           0.605770  \n",
       "Food_Insecurity             0.369243  \n",
       "Child_FI                    0.351646  \n",
       "Unemployment_Rate           1.000000  "
      ]
     },
     "execution_count": 21,
     "metadata": {},
     "output_type": "execute_result"
    }
   ],
   "source": [
    "Feeding_People1.corr() "
   ]
  },
  {
   "cell_type": "markdown",
   "id": "6254fa69",
   "metadata": {},
   "source": [
    " # Seaborn Correlation Heatmap"
   ]
  },
  {
   "cell_type": "code",
   "execution_count": 19,
   "id": "ac19e9d0",
   "metadata": {},
   "outputs": [
    {
     "data": {
      "text/plain": [
       "<AxesSubplot:>"
      ]
     },
     "execution_count": 19,
     "metadata": {},
     "output_type": "execute_result"
    },
    {
     "data": {
      "image/png": "[encoded data removed]",
      "text/plain": [
       "<Figure size 576x576 with 2 Axes>"
      ]
     },
     "metadata": {
      "needs_background": "light"
     },
     "output_type": "display_data"
    }
   ],
   "source": [
    "plt.figure(figsize=(8,8))\n",
    "seaborn.heatmap(Feeding_People1.corr(), annot=True, cmap='coolwarm')"
   ]
  },
  {
   "cell_type": "markdown",
   "id": "a14022b3",
   "metadata": {},
   "source": [
    "# Matplotlib Correlation Heatmap"
   ]
  },
  {
   "cell_type": "code",
   "execution_count": 20,
   "id": "abdc23de",
   "metadata": {},
   "outputs": [
    {
     "data": {
      "image/png": "[encoded data removed]",
      "text/plain": [
       "<Figure size 1152x576 with 2 Axes>"
      ]
     },
     "metadata": {
      "needs_background": "light"
     },
     "output_type": "display_data"
    }
   ],
   "source": [
    "plt.figure(figsize=(16,8))\n",
    "sns.heatmap(Feeding_People1.corr(), annot=True, annot_kws={\"size\": 14})\n",
    "sns.set_style('white')\n",
    "plt.xticks(fontsize=14)\n",
    "plt.yticks(fontsize=14)\n",
    "plt.show()"
   ]
  },
  {
   "cell_type": "code",
   "execution_count": null,
   "id": "d0e04dbe",
   "metadata": {},
   "outputs": [],
   "source": []
  }
 ],
 "metadata": {
  "kernelspec": {
   "display_name": "Python 3",
   "language": "python",
   "name": "python3"
  },
  "language_info": {
   "codemirror_mode": {
    "name": "ipython",
    "version": 3
   },
   "file_extension": ".py",
   "mimetype": "text/x-python",
   "name": "python",
   "nbconvert_exporter": "python",
   "pygments_lexer": "ipython3",
   "version": "3.8.8"
  }
 },
 "nbformat": 4,
 "nbformat_minor": 5
}
